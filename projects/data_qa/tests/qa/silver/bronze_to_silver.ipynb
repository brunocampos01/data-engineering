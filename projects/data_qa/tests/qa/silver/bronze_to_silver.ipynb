{
 "cells": [
  {
   "cell_type": "code",
   "execution_count": 0,
   "metadata": {
    "application/vnd.databricks.v1+cell": {
     "cellMetadata": {},
     "inputWidgets": {},
     "nuid": "5c7ddcf6-b41a-4657-b29f-53a4b99b33f4",
     "showTitle": false,
     "title": ""
    },
    "collapsed": true
   },
   "outputs": [],
   "source": [
    "%load_ext autoreload\n",
    "%autoreload 2\n",
    "from IPython.display import (\n",
    "    display, \n",
    "    HTML,\n",
    ")\n",
    "from databricks.connect import DatabricksSession\n",
    "from pyspark.dbutils import DBUtils\n",
    "\n",
    "from library.logger_provider import LoggerProvider\n",
    "from library.qa.bronze_to_silver_test_data import BronzeToSilverTestData"
   ]
  },
  {
   "cell_type": "code",
   "execution_count": 0,
   "metadata": {
    "application/vnd.databricks.v1+cell": {
     "cellMetadata": {},
     "inputWidgets": {},
     "nuid": "333b3b00-7128-44f5-b284-e66e830da316",
     "showTitle": false,
     "title": ""
    },
    "collapsed": false
   },
   "outputs": [],
   "source": [
    "# DBTITLE 1,Debug\n",
    "# dbutils.widgets.text(\"schema_bronze_name\", \"bloomberg\")\n",
    "# dbutils.widgets.text(\"table_bronze_name\", \"ld_currency\")\n",
    "# dbutils.widgets.text(\"schema_silver_name\", \"bloomberg\")\n",
    "# dbutils.widgets.text(\"table_silver_name\", \"ld_currency\")\n",
    "# dbutils.widgets.text(\"list_pk_cols\", \"SECURITIES\")\n",
    "# dbutils.widgets.text(\"list_order_by_cols\", \"LAST_UPDATE_DT, px_last\")\n",
    "# dbutils.widgets.text(\"datatypes_definition_file\", '/resources/schemas/bloomberg/ld_currency.json')"
   ]
  },
  {
   "cell_type": "code",
   "execution_count": 0,
   "metadata": {
    "application/vnd.databricks.v1+cell": {
     "cellMetadata": {},
     "inputWidgets": {},
     "nuid": "eb4df8b9-16cd-454e-90af-5bdcb9880d73",
     "showTitle": false,
     "title": ""
    },
    "collapsed": false
   },
   "outputs": [],
   "source": [
    "spark = DatabricksSession.builder.getOrCreate()\n",
    "dbutils = DBUtils(spark)\n",
    "logger = LoggerProvider.get_logger()\n",
    "\n",
    "container_adsl_name = \"quality-assurance\"\n",
    "step_layers = \"staging_to_onpremises\"\n",
    "path_schema_json = dbutils.widgets.get(\"datatypes_definition_file\")\n",
    "\n",
    "# unit catalog bronze\n",
    "catalog_bronze = 'dev_bronze'\n",
    "schema_bronze_name = dbutils.widgets.get(\"schema_bronze_name\")\n",
    "table_bronze_name = dbutils.widgets.get(\"table_bronze_name\")\n",
    "\n",
    "# unit catalog silver\n",
    "catalog_silver = 'dev_silver'\n",
    "schema_silver_name = dbutils.widgets.get(\"schema_silver_name\")\n",
    "table_silver_name = dbutils.widgets.get(\"table_silver_name\")\n",
    "\n",
    "# cols\n",
    "pk_cols = dbutils.widgets.get(\"list_pk_cols\")\n",
    "list_pk_cols = [x.strip().lower() for x in pk_cols.split(\",\")]\n",
    "order_by_cols = dbutils.widgets.get(\"list_order_by_cols\")\n",
    "list_order_by_cols = [x.strip().lower() for x in order_by_cols.split(\",\")]"
   ]
  },
  {
   "cell_type": "code",
   "execution_count": 0,
   "metadata": {
    "application/vnd.databricks.v1+cell": {
     "cellMetadata": {},
     "inputWidgets": {},
     "nuid": "c3ddacc4-b1aa-488f-8d85-f0d8eb1642d6",
     "showTitle": false,
     "title": ""
    },
    "collapsed": false
   },
   "outputs": [],
   "source": [
    "## Transform Bronze to Silver"
   ]
  },
  {
   "cell_type": "code",
   "execution_count": 0,
   "metadata": {
    "application/vnd.databricks.v1+cell": {
     "cellMetadata": {},
     "inputWidgets": {},
     "nuid": "45ba5613-9c47-422c-aade-73bcff3c5f1d",
     "showTitle": false,
     "title": ""
    },
    "collapsed": false
   },
   "outputs": [],
   "source": [
    "data_tester = BronzeToSilverTestData(\n",
    "    container_adsl_name=container_adsl_name,\n",
    "    step_layers=step_layers,\n",
    "    schema_bronze_name=schema_bronze_name,\n",
    "    table_bronze_name=table_bronze_name,\n",
    "    schema_silver_name=schema_silver_name,\n",
    "    table_silver_name=table_silver_name,\n",
    "    list_pk_cols=list_pk_cols,\n",
    "    list_order_by_cols=list_order_by_cols,\n",
    "    path_schema_json=path_schema_json,\n",
    ")\n",
    "data_tester.log_execution_parameters()\n",
    "data_tester.validate_parameters()"
   ]
  },
  {
   "cell_type": "code",
   "execution_count": 0,
   "metadata": {
    "application/vnd.databricks.v1+cell": {
     "cellMetadata": {},
     "inputWidgets": {},
     "nuid": "b836a8aa-2880-4034-a9a1-95681a20ee1e",
     "showTitle": false,
     "title": ""
    },
    "collapsed": false
   },
   "outputs": [],
   "source": [
    "df_bronze, df_silver = data_tester.get_and_prepare_data()"
   ]
  },
  {
   "cell_type": "code",
   "execution_count": 0,
   "metadata": {
    "application/vnd.databricks.v1+cell": {
     "cellMetadata": {},
     "inputWidgets": {},
     "nuid": "d1fbdad2-e8ef-4c01-8a36-fdc680da4944",
     "showTitle": false,
     "title": ""
    },
    "collapsed": false
   },
   "outputs": [],
   "source": [
    "df_transformed_bronze = data_tester.apply_transformations()"
   ]
  },
  {
   "cell_type": "code",
   "execution_count": 0,
   "metadata": {
    "application/vnd.databricks.v1+cell": {
     "cellMetadata": {},
     "inputWidgets": {},
     "nuid": "9f1d70ce-c716-4215-9e22-f82aa3e6cb8d",
     "showTitle": false,
     "title": ""
    },
    "collapsed": false
   },
   "outputs": [],
   "source": [
    "kwargs = {'path_schema_json': path_schema_json}\n",
    "\n",
    "dict_result_custom_tests = data_tester.execute_custom_data_tests(\n",
    "    df_expected=df_silver,\n",
    "    df_observed=df_transformed_bronze,\n",
    "    kwargs=kwargs\n",
    ")"
   ]
  },
  {
   "cell_type": "code",
   "execution_count": 0,
   "metadata": {
    "application/vnd.databricks.v1+cell": {
     "cellMetadata": {},
     "inputWidgets": {},
     "nuid": "69a555f6-38b2-467b-91f3-9f0993aec399",
     "showTitle": false,
     "title": ""
    },
    "collapsed": false
   },
   "outputs": [],
   "source": [
    "validation_result = data_tester.execute_data_expectations(\n",
    "    df_expected=df_transformed_bronze,\n",
    "    df_observed=df_silver,\n",
    "    dict_result_custom_tests=dict_result_custom_tests,\n",
    ")"
   ]
  },
  {
   "cell_type": "code",
   "execution_count": 0,
   "metadata": {
    "application/vnd.databricks.v1+cell": {
     "cellMetadata": {},
     "inputWidgets": {},
     "nuid": "1001825c-7ff6-4d01-b5e2-6dab27ccf224",
     "showTitle": false,
     "title": ""
    },
    "collapsed": false
   },
   "outputs": [],
   "source": [
    "html_result_gx = data_tester.generate_results_html(validation_result)\n",
    "display(HTML(html_result_gx))"
   ]
  },
  {
   "cell_type": "code",
   "execution_count": 0,
   "metadata": {
    "application/vnd.databricks.v1+cell": {
     "cellMetadata": {},
     "inputWidgets": {},
     "nuid": "1c960905-d8e6-4598-9bfc-3a414f3596d3",
     "showTitle": false,
     "title": ""
    },
    "collapsed": false
   },
   "outputs": [],
   "source": [
    "data_tester.save_report_tests_azure_storage(\n",
    "    html_result_gx=html_result_gx,\n",
    "    container_name=data_tester.container_adsl_name,\n",
    "    step_layers=data_tester.step_layers,\n",
    "    schema_target_name=data_tester.schema_name,\n",
    "    table_target_name=data_tester.table_name\n",
    ")"
   ]
  },
  {
   "cell_type": "code",
   "execution_count": 0,
   "metadata": {
    "application/vnd.databricks.v1+cell": {
     "cellMetadata": {},
     "inputWidgets": {},
     "nuid": "3bd70983-6724-423c-a532-58a15f29344d",
     "showTitle": false,
     "title": ""
    },
    "collapsed": false
   },
   "outputs": [],
   "source": [
    "report = data_tester.display_results(validation_result)\n",
    "dbutils.notebook.exit(report)"
   ]
  }
 ],
 "metadata": {
  "application/vnd.databricks.v1+notebook": {
   "dashboards": [],
   "language": "python",
   "notebookMetadata": {
    "pythonIndentUnit": 4
   },
   "notebookName": "bronze_to_silver",
   "widgets": {}
  },
  "kernelspec": {
   "display_name": "Python 3",
   "language": "python",
   "name": "python3"
  },
  "language_info": {
   "codemirror_mode": {
    "name": "ipython",
    "version": 2
   },
   "file_extension": ".py",
   "mimetype": "text/x-python",
   "name": "python",
   "nbconvert_exporter": "python",
   "pygments_lexer": "ipython2",
   "version": "2.7.6"
  }
 },
 "nbformat": 4,
 "nbformat_minor": 0
}
